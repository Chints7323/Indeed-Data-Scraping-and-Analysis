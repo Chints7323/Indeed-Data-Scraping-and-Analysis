{
 "cells": [
  {
   "cell_type": "code",
   "execution_count": 1,
   "metadata": {},
   "outputs": [],
   "source": [
    "PageUrl = \"https://in.indeed.com/jobs?q=machine%20learning&l=India&fromage=14&start={}\""
   ]
  },
  {
   "cell_type": "code",
   "execution_count": 2,
   "metadata": {},
   "outputs": [],
   "source": [
    "from selenium import webdriver\n",
    "from time import sleep\n",
    "from bs4 import BeautifulSoup"
   ]
  },
  {
   "cell_type": "code",
   "execution_count": 3,
   "metadata": {},
   "outputs": [],
   "source": [
    " Driver = webdriver.Chrome(\"./chromedriver.exe\")"
   ]
  },
  {
   "cell_type": "code",
   "execution_count": 4,
   "metadata": {},
   "outputs": [],
   "source": [
    "## Data we want to collect (Store)\n",
    "Titles = []\n",
    "Locations = []\n",
    "Companies = []\n",
    "Salaries = []\n",
    "JobDetails = []"
   ]
  },
  {
   "cell_type": "code",
   "execution_count": null,
   "metadata": {},
   "outputs": [],
   "source": [
    "for pageNum in range(0, 200, 10):\n",
    "    Driver.get(PageUrl.format(pageNum))\n",
    "    cards = None\n",
    "    while True:\n",
    "        cards = Driver.find_elements_by_class_name(\"result\")\n",
    "        break\n",
    "        \n",
    "    for card in cards:\n",
    "        details = BeautifulSoup(card.get_attribute('innerHTML'), 'html.parser')\n",
    "        \n",
    "        try:\n",
    "            title = details.find('a', class_ = \"jobtitle\").text.replace(\"\\n\", \"\").strip()\n",
    "            Titles.append(title)\n",
    "        except:\n",
    "            Titles.append(None)\n",
    "            \n",
    "            \n",
    "        try:\n",
    "            location = details.find(class_ = \"location\").text.replace(\"\\n\", \"\").strip()\n",
    "            Locations.append(location)\n",
    "        except:\n",
    "            Locations.append(None)\n",
    "            \n",
    "        try:\n",
    "            company = details.find(class_ = \"company\").text.replace(\"\\n\", \"\").strip()\n",
    "            Companies.append(company)\n",
    "        except:\n",
    "            Companies.append(None)\n",
    "            \n",
    "        \n",
    "        try:\n",
    "            salary = details.find(class_ = \"salary\").text.replace(\"\\n\", \"\").strip()\n",
    "            Salaries.append(salary)\n",
    "        except:\n",
    "            Salaries.append(None)\n",
    "        \n",
    "        while True:\n",
    "            try:\n",
    "                card.click()\n",
    "                sleep(1)\n",
    "                try:\n",
    "                    Des = Driver.find_element_by_id(\"vjs-tab-job\")\n",
    "                    DesHTML = BeautifulSoup(Des.get_attribute('innerHTML'), 'html.parser')\n",
    "                    all_li = DesHTML.find_all(\"li\")\n",
    "                    all_li_text = \"\"\n",
    "                    for Li in all_li:\n",
    "                        all_li_text += Li.text.replace(\"\\n\", \"\")\n",
    "                        all_li_text += \" \"\n",
    "                    JobDetails.append(all_li_text)\n",
    "                except:\n",
    "                    JobDetails.append(None)\n",
    "                break\n",
    "            except:\n",
    "                pass"
   ]
  },
  {
   "cell_type": "code",
   "execution_count": 6,
   "metadata": {},
   "outputs": [],
   "source": [
    "import pandas as pd"
   ]
  },
  {
   "cell_type": "code",
   "execution_count": 18,
   "metadata": {},
   "outputs": [
    {
     "data": {
      "text/html": [
       "<div>\n",
       "<style scoped>\n",
       "    .dataframe tbody tr th:only-of-type {\n",
       "        vertical-align: middle;\n",
       "    }\n",
       "\n",
       "    .dataframe tbody tr th {\n",
       "        vertical-align: top;\n",
       "    }\n",
       "\n",
       "    .dataframe thead th {\n",
       "        text-align: right;\n",
       "    }\n",
       "</style>\n",
       "<table border=\"1\" class=\"dataframe\">\n",
       "  <thead>\n",
       "    <tr style=\"text-align: right;\">\n",
       "      <th></th>\n",
       "      <th>Title</th>\n",
       "      <th>Location</th>\n",
       "      <th>Company</th>\n",
       "      <th>Salary</th>\n",
       "      <th>Details</th>\n",
       "    </tr>\n",
       "  </thead>\n",
       "  <tbody>\n",
       "    <tr>\n",
       "      <th>0</th>\n",
       "      <td>Machine Learning Engineer</td>\n",
       "      <td>Delhi, Delhi</td>\n",
       "      <td>VNU SOFTWARE Pvt Ltd.</td>\n",
       "      <td>₹25,000 - ₹40,000 a month</td>\n",
       "      <td>Predictive Analysis Statistical Modeling Data ...</td>\n",
       "    </tr>\n",
       "    <tr>\n",
       "      <th>4</th>\n",
       "      <td>Machine Learning Engineer</td>\n",
       "      <td>Ahmedabad, Gujarat</td>\n",
       "      <td>Azine Web Technologies</td>\n",
       "      <td>₹20,000 - ₹30,000 a month</td>\n",
       "      <td>Experience with Machine Learning and Deep Lear...</td>\n",
       "    </tr>\n",
       "    <tr>\n",
       "      <th>13</th>\n",
       "      <td>Machine Learning Trainee</td>\n",
       "      <td>Bengaluru, Karnataka</td>\n",
       "      <td>ABI Health Technologies</td>\n",
       "      <td>₹20,000 - ₹30,000 a month</td>\n",
       "      <td>Day shift Machine Learning: 1 year (Preferred)...</td>\n",
       "    </tr>\n",
       "    <tr>\n",
       "      <th>21</th>\n",
       "      <td>Machine Learning Engineer</td>\n",
       "      <td>Hyderabad, Telangana</td>\n",
       "      <td>SuccessMetric</td>\n",
       "      <td>₹5,00,000 - ₹6,20,000 a year</td>\n",
       "      <td>Paid time off Work from home Day shift Machine...</td>\n",
       "    </tr>\n",
       "    <tr>\n",
       "      <th>22</th>\n",
       "      <td>Software Engineer Machine Learning &amp; Computer ...</td>\n",
       "      <td>Gurgaon, Haryana</td>\n",
       "      <td>Lizmotors Mobility Pvt Ltd.</td>\n",
       "      <td>₹3,00,000 - ₹12,00,000 a year</td>\n",
       "      <td>Work from home Monday to Friday Bachelor's (Pr...</td>\n",
       "    </tr>\n",
       "    <tr>\n",
       "      <th>25</th>\n",
       "      <td>Machine Learning Engineer</td>\n",
       "      <td>Pune, Maharashtra</td>\n",
       "      <td>Regent Climate Connect Knowledge Solutions Pri...</td>\n",
       "      <td>₹7,00,000 - ₹12,00,000 a year</td>\n",
       "      <td>Results-oriented. You can meet tight deadlines...</td>\n",
       "    </tr>\n",
       "  </tbody>\n",
       "</table>\n",
       "</div>"
      ],
      "text/plain": [
       "                                                Title              Location  \\\n",
       "0                           Machine Learning Engineer          Delhi, Delhi   \n",
       "4                           Machine Learning Engineer    Ahmedabad, Gujarat   \n",
       "13                           Machine Learning Trainee  Bengaluru, Karnataka   \n",
       "21                          Machine Learning Engineer  Hyderabad, Telangana   \n",
       "22  Software Engineer Machine Learning & Computer ...      Gurgaon, Haryana   \n",
       "25                          Machine Learning Engineer     Pune, Maharashtra   \n",
       "\n",
       "                                              Company  \\\n",
       "0                               VNU SOFTWARE Pvt Ltd.   \n",
       "4                              Azine Web Technologies   \n",
       "13                            ABI Health Technologies   \n",
       "21                                      SuccessMetric   \n",
       "22                        Lizmotors Mobility Pvt Ltd.   \n",
       "25  Regent Climate Connect Knowledge Solutions Pri...   \n",
       "\n",
       "                           Salary  \\\n",
       "0       ₹25,000 - ₹40,000 a month   \n",
       "4       ₹20,000 - ₹30,000 a month   \n",
       "13      ₹20,000 - ₹30,000 a month   \n",
       "21   ₹5,00,000 - ₹6,20,000 a year   \n",
       "22  ₹3,00,000 - ₹12,00,000 a year   \n",
       "25  ₹7,00,000 - ₹12,00,000 a year   \n",
       "\n",
       "                                              Details  \n",
       "0   Predictive Analysis Statistical Modeling Data ...  \n",
       "4   Experience with Machine Learning and Deep Lear...  \n",
       "13  Day shift Machine Learning: 1 year (Preferred)...  \n",
       "21  Paid time off Work from home Day shift Machine...  \n",
       "22  Work from home Monday to Friday Bachelor's (Pr...  \n",
       "25  Results-oriented. You can meet tight deadlines...  "
      ]
     },
     "execution_count": 18,
     "metadata": {},
     "output_type": "execute_result"
    }
   ],
   "source": [
    "df = pd.DataFrame({\n",
    "    \"Title\":Titles,\n",
    "    \"Location\":Locations,\n",
    "    \"Company\":Companies,\n",
    "    \"Salary\":Salaries,\n",
    "    \"Details\":JobDetails\n",
    "    \n",
    "})\n",
    "\n",
    "df[df.Title.str.contains(pat = 'Machine Learning')].dropna()"
   ]
  },
  {
   "cell_type": "code",
   "execution_count": 13,
   "metadata": {},
   "outputs": [
    {
     "data": {
      "text/plain": [
       "array(['Machine Learning Engineer', 'Data Engineer - Machine Learning',\n",
       "       'Data Scientist / Machine Learning Engineer',\n",
       "       'Machine Learning Engineer', 'Machine Learning Engineer',\n",
       "       'Customer Engineer, Machine Learning, Google Cloud',\n",
       "       'Research Engineer - Machine Vision',\n",
       "       'EY-Consulting - Data and Analytics – statistical/machine lea...',\n",
       "       'Engineer- Deep Learning', 'Technical Analyst - Machine Learning',\n",
       "       'Machine Learning Developer',\n",
       "       'Machine Learning Engineers (MLE-2, MLE-3)', 'Machine Learning',\n",
       "       'Machine Learning Trainee', 'Data Science Intern',\n",
       "       'EY-Consulting - Data and Analytics – statistical/machine lea...',\n",
       "       'Machine Learning Engineer',\n",
       "       'Customer Engineer, Machine Learning, Google Cloud',\n",
       "       'Machine Learning', 'Data Scientist - GoMerchant',\n",
       "       'Developer/\\u200b\\u200b\\u200b\\u200b\\u200b\\u200b\\u200bMachine Learning Engineer (Java/Python)',\n",
       "       'Machine Learning Engineer',\n",
       "       'Software Engineer Machine Learning & Computer Vision C/C++ [...',\n",
       "       'Associate Data Scientist',\n",
       "       'Software Developer (C, C++, NS2, Java, R, Python).',\n",
       "       'Machine Learning Engineer', 'Data Scientist', 'Research Engineer',\n",
       "       'Data Science Internship',\n",
       "       'ML Engineer / Machine Learning Engineer',\n",
       "       'Computer Vision Engineer',\n",
       "       'Machine Learning Engineers (MLE-2, MLE-3)', 'Data scientist',\n",
       "       'Data Scientist I', 'Software Engineering - Pyspark Developer',\n",
       "       'Machine Learning Engineer', 'Data Scientist (Techn) Job stage 6',\n",
       "       'Computer Operator/Data Entry, Software Engineer/Programmer',\n",
       "       'Software Engineer IV-11395303', 'Data Scientist',\n",
       "       'Data Scientist - Decision Systems/Machine Learning/Deep Lear...',\n",
       "       'RBEI/ESZ2_Video_Function_Computer_vision_Developer(CV)- 2021',\n",
       "       'Java Software Developer',\n",
       "       'Machine Learning & Data Science Internship', 'Data Scientist'],\n",
       "      dtype=object)"
      ]
     },
     "execution_count": 13,
     "metadata": {},
     "output_type": "execute_result"
    }
   ],
   "source": [
    "df.Title.values"
   ]
  },
  {
   "cell_type": "markdown",
   "metadata": {},
   "source": [
    "##### Similarly  Scrape the data for these Keywords...\n",
    "1. Machine Learning\n",
    "2. Artificial Intelligence\n",
    "3. Data Science\n",
    "4. Data Analyticc\n",
    "5. Web Development\n",
    "6. ReactJs"
   ]
  },
  {
   "cell_type": "code",
   "execution_count": 51,
   "metadata": {},
   "outputs": [],
   "source": [
    "### Data Analysis Part Start...."
   ]
  },
  {
   "cell_type": "code",
   "execution_count": 53,
   "metadata": {},
   "outputs": [],
   "source": [
    "df1 = pd.read_csv(\"DataSets/ai.csv\")\n",
    "df2 = pd.read_csv(\"DataSets/data_analyst.csv\")\n",
    "df3 = pd.read_csv(\"DataSets/datascience2.csv\")\n",
    "df4 = pd.read_csv(\"DataSets/machinelearning.csv\")"
   ]
  },
  {
   "cell_type": "code",
   "execution_count": 54,
   "metadata": {},
   "outputs": [],
   "source": [
    "df = pd.concat([df1, df2, df3, df4], axis=0)"
   ]
  },
  {
   "cell_type": "code",
   "execution_count": 56,
   "metadata": {},
   "outputs": [],
   "source": [
    "df = df.drop_duplicates()"
   ]
  },
  {
   "cell_type": "code",
   "execution_count": 59,
   "metadata": {},
   "outputs": [
    {
     "data": {
      "text/plain": [
       "Index(['Unnamed: 0', 'Title', 'Location', 'Company', 'Salary', 'Sponsored',\n",
       "       'Description'],\n",
       "      dtype='object')"
      ]
     },
     "execution_count": 59,
     "metadata": {},
     "output_type": "execute_result"
    }
   ],
   "source": [
    "df.columns"
   ]
  },
  {
   "cell_type": "code",
   "execution_count": 68,
   "metadata": {},
   "outputs": [],
   "source": [
    "## Companies who have max jobs..\n",
    "CompanyGroup = df.groupby(\"Company\").count()[\"Title\"].sort_values(ascending = False)[:15]"
   ]
  },
  {
   "cell_type": "code",
   "execution_count": 69,
   "metadata": {},
   "outputs": [
    {
     "data": {
      "text/plain": [
       "Company\n",
       "Micro Focus             28\n",
       "Telstra                 14\n",
       "TARGET                  13\n",
       "SAP                     12\n",
       "Covance                 11\n",
       "Paypal                  11\n",
       "Infosys                 11\n",
       "Akamai                  10\n",
       "JP Morgan Chase         10\n",
       "Wells Fargo              9\n",
       "HERE Technologies        8\n",
       "Fidelity Investments     8\n",
       "Pitney Bowes             7\n",
       "Accenture                7\n",
       "CommScope                6\n",
       "Name: Title, dtype: int64"
      ]
     },
     "execution_count": 69,
     "metadata": {},
     "output_type": "execute_result"
    }
   ],
   "source": [
    "CompanyGroup"
   ]
  },
  {
   "cell_type": "code",
   "execution_count": 72,
   "metadata": {},
   "outputs": [
    {
     "data": {
      "text/plain": [
       "<matplotlib.axes._subplots.AxesSubplot at 0x127b438d0>"
      ]
     },
     "execution_count": 72,
     "metadata": {},
     "output_type": "execute_result"
    },
    {
     "data": {
      "image/png": "[encoded data removed]",
      "text/plain": [
       "<Figure size 720x360 with 1 Axes>"
      ]
     },
     "metadata": {
      "needs_background": "light"
     },
     "output_type": "display_data"
    }
   ],
   "source": [
    "CompanyGroup.plot(kind = \"bar\", figsize = (10, 5))"
   ]
  },
  {
   "cell_type": "code",
   "execution_count": 73,
   "metadata": {},
   "outputs": [],
   "source": [
    "### apply some NLP and work with JobDetails"
   ]
  },
  {
   "cell_type": "code",
   "execution_count": 75,
   "metadata": {},
   "outputs": [],
   "source": [
    "import nltk\n",
    "from nltk import word_tokenize, sent_tokenize\n",
    "from nltk.corpus import stopwords\n",
    "from collections import Counter"
   ]
  },
  {
   "cell_type": "code",
   "execution_count": 92,
   "metadata": {},
   "outputs": [],
   "source": [
    "stop_words = stopwords.words('english')\n",
    "stop_words.append(\".\")\n",
    "stop_words.append(\",\")\n",
    "stop_words.append(\"(\")\n",
    "stop_words.append(\")\")\n",
    "stop_words.append(\"@\")\n",
    "stop_words.append(\"!\")\n",
    "stop_words.append(\"[\")\n",
    "stop_words.append(\"]\")\n",
    "stop_words.append(\"-\")"
   ]
  },
  {
   "cell_type": "code",
   "execution_count": 94,
   "metadata": {},
   "outputs": [],
   "source": [
    "def CleanData(desc):\n",
    "    words = word_tokenize(str(desc))\n",
    "    imp_words = []\n",
    "    for word in words:\n",
    "        lower = word.lower()\n",
    "        if lower not in stop_words:\n",
    "            imp_words.append(lower)\n",
    "    return imp_words\n",
    "        "
   ]
  },
  {
   "cell_type": "code",
   "execution_count": 97,
   "metadata": {},
   "outputs": [],
   "source": [
    "dfDes = df.Description.dropna()"
   ]
  },
  {
   "cell_type": "code",
   "execution_count": 99,
   "metadata": {},
   "outputs": [],
   "source": [
    "Tags = dfDes.apply(CleanData)"
   ]
  },
  {
   "cell_type": "code",
   "execution_count": 101,
   "metadata": {},
   "outputs": [],
   "source": [
    "resultCount = Tags.apply(Counter).sum().items()"
   ]
  },
  {
   "cell_type": "code",
   "execution_count": 109,
   "metadata": {},
   "outputs": [],
   "source": [
    "resultCount = sorted(resultCount, key = lambda s: s[1], reverse=True)"
   ]
  },
  {
   "cell_type": "code",
   "execution_count": 111,
   "metadata": {},
   "outputs": [],
   "source": [
    "resultData = pd.Series({\n",
    "    K:V for K,V in resultCount\n",
    "})"
   ]
  },
  {
   "cell_type": "code",
   "execution_count": 121,
   "metadata": {},
   "outputs": [
    {
     "data": {
      "text/plain": [
       "<matplotlib.axes._subplots.AxesSubplot at 0x1a324228d0>"
      ]
     },
     "execution_count": 121,
     "metadata": {},
     "output_type": "execute_result"
    },
    {
     "data": {
      "image/png": "[encoded data removed]",
      "text/plain": [
       "<Figure size 720x360 with 1 Axes>"
      ]
     },
     "metadata": {
      "needs_background": "light"
     },
     "output_type": "display_data"
    }
   ],
   "source": [
    "skils = [\"pandas\", \"analytic\", \"django\",\"math\", \"numpy\"]\n",
    "FilteredData = resultData.filter(items=skils)\n",
    "FilteredData.plot(kind = \"bar\", figsize = (10, 5))"
   ]
  },
  {
   "cell_type": "code",
   "execution_count": null,
   "metadata": {},
   "outputs": [],
   "source": []
  },
  {
   "cell_type": "code",
   "execution_count": null,
   "metadata": {},
   "outputs": [],
   "source": []
  }
 ],
 "metadata": {
  "kernelspec": {
   "display_name": "Python 3",
   "language": "python",
   "name": "python3"
  },
  "language_info": {
   "codemirror_mode": {
    "name": "ipython",
    "version": 3
   },
   "file_extension": ".py",
   "mimetype": "text/x-python",
   "name": "python",
   "nbconvert_exporter": "python",
   "pygments_lexer": "ipython3",
   "version": "3.7.6"
  }
 },
 "nbformat": 4,
 "nbformat_minor": 4
}
